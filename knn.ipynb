{
 "cells": [
  {
   "cell_type": "markdown",
   "id": "9462af3c",
   "metadata": {},
   "source": [
    "# KNN "
   ]
  },
  {
   "cell_type": "code",
   "execution_count": null,
   "id": "fd4a8485",
   "metadata": {},
   "outputs": [],
   "source": [
    "# 1. Exploratory Data Analysis\n",
    "# 2. Data Preprocessing & Feature Engineering\n",
    "# 3. Modeling & Prediction\n",
    "# 4. Model Evaluation\n",
    "# 5. Hyperparameter Optimization\n",
    "# 6. Final Model"
   ]
  },
  {
   "cell_type": "markdown",
   "id": "bbbe3fd5",
   "metadata": {},
   "source": [
    "# 1. Exploratory Data Analysis\n"
   ]
  },
  {
   "cell_type": "code",
   "execution_count": 2,
   "id": "f8216269",
   "metadata": {},
   "outputs": [],
   "source": [
    "import pandas as pd\n",
    "from sklearn.metrics import classification_report, roc_auc_score\n",
    "from sklearn.model_selection import GridSearchCV, cross_validate\n",
    "from sklearn.neighbors import KNeighborsClassifier\n",
    "from sklearn.preprocessing import StandardScaler\n",
    "pd.set_option('display.max_columns', None)\n",
    "pd.set_option('display.width', 500)"
   ]
  },
  {
   "cell_type": "code",
   "execution_count": 3,
   "id": "73c990cf",
   "metadata": {},
   "outputs": [],
   "source": [
    "df = pd.read_csv(\"C:/Users/esman/OneDrive/Masaüstü/MachineLearning_datasets/diabetes.csv\")"
   ]
  },
  {
   "cell_type": "code",
   "execution_count": 4,
   "id": "f49117cf",
   "metadata": {},
   "outputs": [
    {
     "data": {
      "text/html": [
       "<div>\n",
       "<style scoped>\n",
       "    .dataframe tbody tr th:only-of-type {\n",
       "        vertical-align: middle;\n",
       "    }\n",
       "\n",
       "    .dataframe tbody tr th {\n",
       "        vertical-align: top;\n",
       "    }\n",
       "\n",
       "    .dataframe thead th {\n",
       "        text-align: right;\n",
       "    }\n",
       "</style>\n",
       "<table border=\"1\" class=\"dataframe\">\n",
       "  <thead>\n",
       "    <tr style=\"text-align: right;\">\n",
       "      <th></th>\n",
       "      <th>Pregnancies</th>\n",
       "      <th>Glucose</th>\n",
       "      <th>BloodPressure</th>\n",
       "      <th>SkinThickness</th>\n",
       "      <th>Insulin</th>\n",
       "      <th>BMI</th>\n",
       "      <th>DiabetesPedigreeFunction</th>\n",
       "      <th>Age</th>\n",
       "      <th>Outcome</th>\n",
       "    </tr>\n",
       "  </thead>\n",
       "  <tbody>\n",
       "    <tr>\n",
       "      <th>0</th>\n",
       "      <td>6</td>\n",
       "      <td>148</td>\n",
       "      <td>72</td>\n",
       "      <td>35</td>\n",
       "      <td>0</td>\n",
       "      <td>33.6</td>\n",
       "      <td>0.627</td>\n",
       "      <td>50</td>\n",
       "      <td>1</td>\n",
       "    </tr>\n",
       "    <tr>\n",
       "      <th>1</th>\n",
       "      <td>1</td>\n",
       "      <td>85</td>\n",
       "      <td>66</td>\n",
       "      <td>29</td>\n",
       "      <td>0</td>\n",
       "      <td>26.6</td>\n",
       "      <td>0.351</td>\n",
       "      <td>31</td>\n",
       "      <td>0</td>\n",
       "    </tr>\n",
       "    <tr>\n",
       "      <th>2</th>\n",
       "      <td>8</td>\n",
       "      <td>183</td>\n",
       "      <td>64</td>\n",
       "      <td>0</td>\n",
       "      <td>0</td>\n",
       "      <td>23.3</td>\n",
       "      <td>0.672</td>\n",
       "      <td>32</td>\n",
       "      <td>1</td>\n",
       "    </tr>\n",
       "    <tr>\n",
       "      <th>3</th>\n",
       "      <td>1</td>\n",
       "      <td>89</td>\n",
       "      <td>66</td>\n",
       "      <td>23</td>\n",
       "      <td>94</td>\n",
       "      <td>28.1</td>\n",
       "      <td>0.167</td>\n",
       "      <td>21</td>\n",
       "      <td>0</td>\n",
       "    </tr>\n",
       "    <tr>\n",
       "      <th>4</th>\n",
       "      <td>0</td>\n",
       "      <td>137</td>\n",
       "      <td>40</td>\n",
       "      <td>35</td>\n",
       "      <td>168</td>\n",
       "      <td>43.1</td>\n",
       "      <td>2.288</td>\n",
       "      <td>33</td>\n",
       "      <td>1</td>\n",
       "    </tr>\n",
       "  </tbody>\n",
       "</table>\n",
       "</div>"
      ],
      "text/plain": [
       "   Pregnancies  Glucose  BloodPressure  SkinThickness  Insulin   BMI  DiabetesPedigreeFunction  Age  Outcome\n",
       "0            6      148             72             35        0  33.6                     0.627   50        1\n",
       "1            1       85             66             29        0  26.6                     0.351   31        0\n",
       "2            8      183             64              0        0  23.3                     0.672   32        1\n",
       "3            1       89             66             23       94  28.1                     0.167   21        0\n",
       "4            0      137             40             35      168  43.1                     2.288   33        1"
      ]
     },
     "execution_count": 4,
     "metadata": {},
     "output_type": "execute_result"
    }
   ],
   "source": [
    "df.head()"
   ]
  },
  {
   "cell_type": "code",
   "execution_count": 5,
   "id": "45c00d68",
   "metadata": {},
   "outputs": [
    {
     "data": {
      "text/plain": [
       "(768, 9)"
      ]
     },
     "execution_count": 5,
     "metadata": {},
     "output_type": "execute_result"
    }
   ],
   "source": [
    "df.shape"
   ]
  },
  {
   "cell_type": "code",
   "execution_count": 6,
   "id": "83296356",
   "metadata": {},
   "outputs": [
    {
     "data": {
      "text/html": [
       "<div>\n",
       "<style scoped>\n",
       "    .dataframe tbody tr th:only-of-type {\n",
       "        vertical-align: middle;\n",
       "    }\n",
       "\n",
       "    .dataframe tbody tr th {\n",
       "        vertical-align: top;\n",
       "    }\n",
       "\n",
       "    .dataframe thead th {\n",
       "        text-align: right;\n",
       "    }\n",
       "</style>\n",
       "<table border=\"1\" class=\"dataframe\">\n",
       "  <thead>\n",
       "    <tr style=\"text-align: right;\">\n",
       "      <th></th>\n",
       "      <th>count</th>\n",
       "      <th>mean</th>\n",
       "      <th>std</th>\n",
       "      <th>min</th>\n",
       "      <th>25%</th>\n",
       "      <th>50%</th>\n",
       "      <th>75%</th>\n",
       "      <th>max</th>\n",
       "    </tr>\n",
       "  </thead>\n",
       "  <tbody>\n",
       "    <tr>\n",
       "      <th>Pregnancies</th>\n",
       "      <td>768.0</td>\n",
       "      <td>3.845052</td>\n",
       "      <td>3.369578</td>\n",
       "      <td>0.000</td>\n",
       "      <td>1.00000</td>\n",
       "      <td>3.0000</td>\n",
       "      <td>6.00000</td>\n",
       "      <td>17.00</td>\n",
       "    </tr>\n",
       "    <tr>\n",
       "      <th>Glucose</th>\n",
       "      <td>768.0</td>\n",
       "      <td>120.894531</td>\n",
       "      <td>31.972618</td>\n",
       "      <td>0.000</td>\n",
       "      <td>99.00000</td>\n",
       "      <td>117.0000</td>\n",
       "      <td>140.25000</td>\n",
       "      <td>199.00</td>\n",
       "    </tr>\n",
       "    <tr>\n",
       "      <th>BloodPressure</th>\n",
       "      <td>768.0</td>\n",
       "      <td>69.105469</td>\n",
       "      <td>19.355807</td>\n",
       "      <td>0.000</td>\n",
       "      <td>62.00000</td>\n",
       "      <td>72.0000</td>\n",
       "      <td>80.00000</td>\n",
       "      <td>122.00</td>\n",
       "    </tr>\n",
       "    <tr>\n",
       "      <th>SkinThickness</th>\n",
       "      <td>768.0</td>\n",
       "      <td>20.536458</td>\n",
       "      <td>15.952218</td>\n",
       "      <td>0.000</td>\n",
       "      <td>0.00000</td>\n",
       "      <td>23.0000</td>\n",
       "      <td>32.00000</td>\n",
       "      <td>99.00</td>\n",
       "    </tr>\n",
       "    <tr>\n",
       "      <th>Insulin</th>\n",
       "      <td>768.0</td>\n",
       "      <td>79.799479</td>\n",
       "      <td>115.244002</td>\n",
       "      <td>0.000</td>\n",
       "      <td>0.00000</td>\n",
       "      <td>30.5000</td>\n",
       "      <td>127.25000</td>\n",
       "      <td>846.00</td>\n",
       "    </tr>\n",
       "    <tr>\n",
       "      <th>BMI</th>\n",
       "      <td>768.0</td>\n",
       "      <td>31.992578</td>\n",
       "      <td>7.884160</td>\n",
       "      <td>0.000</td>\n",
       "      <td>27.30000</td>\n",
       "      <td>32.0000</td>\n",
       "      <td>36.60000</td>\n",
       "      <td>67.10</td>\n",
       "    </tr>\n",
       "    <tr>\n",
       "      <th>DiabetesPedigreeFunction</th>\n",
       "      <td>768.0</td>\n",
       "      <td>0.471876</td>\n",
       "      <td>0.331329</td>\n",
       "      <td>0.078</td>\n",
       "      <td>0.24375</td>\n",
       "      <td>0.3725</td>\n",
       "      <td>0.62625</td>\n",
       "      <td>2.42</td>\n",
       "    </tr>\n",
       "    <tr>\n",
       "      <th>Age</th>\n",
       "      <td>768.0</td>\n",
       "      <td>33.240885</td>\n",
       "      <td>11.760232</td>\n",
       "      <td>21.000</td>\n",
       "      <td>24.00000</td>\n",
       "      <td>29.0000</td>\n",
       "      <td>41.00000</td>\n",
       "      <td>81.00</td>\n",
       "    </tr>\n",
       "    <tr>\n",
       "      <th>Outcome</th>\n",
       "      <td>768.0</td>\n",
       "      <td>0.348958</td>\n",
       "      <td>0.476951</td>\n",
       "      <td>0.000</td>\n",
       "      <td>0.00000</td>\n",
       "      <td>0.0000</td>\n",
       "      <td>1.00000</td>\n",
       "      <td>1.00</td>\n",
       "    </tr>\n",
       "  </tbody>\n",
       "</table>\n",
       "</div>"
      ],
      "text/plain": [
       "                          count        mean         std     min       25%       50%        75%     max\n",
       "Pregnancies               768.0    3.845052    3.369578   0.000   1.00000    3.0000    6.00000   17.00\n",
       "Glucose                   768.0  120.894531   31.972618   0.000  99.00000  117.0000  140.25000  199.00\n",
       "BloodPressure             768.0   69.105469   19.355807   0.000  62.00000   72.0000   80.00000  122.00\n",
       "SkinThickness             768.0   20.536458   15.952218   0.000   0.00000   23.0000   32.00000   99.00\n",
       "Insulin                   768.0   79.799479  115.244002   0.000   0.00000   30.5000  127.25000  846.00\n",
       "BMI                       768.0   31.992578    7.884160   0.000  27.30000   32.0000   36.60000   67.10\n",
       "DiabetesPedigreeFunction  768.0    0.471876    0.331329   0.078   0.24375    0.3725    0.62625    2.42\n",
       "Age                       768.0   33.240885   11.760232  21.000  24.00000   29.0000   41.00000   81.00\n",
       "Outcome                   768.0    0.348958    0.476951   0.000   0.00000    0.0000    1.00000    1.00"
      ]
     },
     "execution_count": 6,
     "metadata": {},
     "output_type": "execute_result"
    }
   ],
   "source": [
    "#sayısal değişkenlerin betimsel istatistiskleri\n",
    "df.describe().T"
   ]
  },
  {
   "cell_type": "code",
   "execution_count": 7,
   "id": "acc1b0cc",
   "metadata": {},
   "outputs": [
    {
     "data": {
      "text/plain": [
       "0    500\n",
       "1    268\n",
       "Name: Outcome, dtype: int64"
      ]
     },
     "execution_count": 7,
     "metadata": {},
     "output_type": "execute_result"
    }
   ],
   "source": [
    "#bağımlı değşkenimin sınıflarının dağılımı\n",
    "df[\"Outcome\"].value_counts()"
   ]
  },
  {
   "cell_type": "markdown",
   "id": "91cf32cd",
   "metadata": {},
   "source": [
    "# 2. Data Preprocessing & Feature Engineering\n",
    "Uzaklık temelli yöntemlerde ve gradient descent temelli yöntemlerde değişkenlerin standart olması elde edilecek sonuçların ya daha hızlı ya da daha doğru, daha başarılı olmasını sağlayacaktır. Bu sebeple elimizdeki bağımsız değişkenleri standartlaşma işlemine sokacağız. "
   ]
  },
  {
   "cell_type": "code",
   "execution_count": 8,
   "id": "72e5e9d4",
   "metadata": {},
   "outputs": [],
   "source": [
    "#Bağımlı (y) ve bağımsız değişkenlerini(x) ata.\n",
    "y = df[\"Outcome\"]\n",
    "X = df.drop([\"Outcome\"], axis=1)"
   ]
  },
  {
   "cell_type": "code",
   "execution_count": 9,
   "id": "a93cf7d8",
   "metadata": {},
   "outputs": [
    {
     "data": {
      "text/plain": [
       "array([[ 0.63994726,  0.84832379,  0.14964075, ...,  0.20401277,\n",
       "         0.46849198,  1.4259954 ],\n",
       "       [-0.84488505, -1.12339636, -0.16054575, ..., -0.68442195,\n",
       "        -0.36506078, -0.19067191],\n",
       "       [ 1.23388019,  1.94372388, -0.26394125, ..., -1.10325546,\n",
       "         0.60439732, -0.10558415],\n",
       "       ...,\n",
       "       [ 0.3429808 ,  0.00330087,  0.14964075, ..., -0.73518964,\n",
       "        -0.68519336, -0.27575966],\n",
       "       [-0.84488505,  0.1597866 , -0.47073225, ..., -0.24020459,\n",
       "        -0.37110101,  1.17073215],\n",
       "       [-0.84488505, -0.8730192 ,  0.04624525, ..., -0.20212881,\n",
       "        -0.47378505, -0.87137393]])"
      ]
     },
     "execution_count": 9,
     "metadata": {},
     "output_type": "execute_result"
    }
   ],
   "source": [
    "#Bağımsız değişkenleri standartlaştıma işlemi:\n",
    "#X_scaled = ölçeklendirilmiş X ler.\n",
    "X_scaled = StandardScaler().fit_transform(X)\n",
    "X_scaled"
   ]
  },
  {
   "cell_type": "code",
   "execution_count": null,
   "id": "6d0a5d17",
   "metadata": {},
   "outputs": [],
   "source": [
    "#X_scaled np.array lerinde sütun isimleri yok bu nedenle sütun isimlerini eklemeliyim\n",
    "#X_scaledı al. columns sutünlarını = X in ssutunları olarak gir.\n",
    "X = pd.DataFrame(X_scaled, columns=X.columns)"
   ]
  },
  {
   "cell_type": "markdown",
   "id": "1ee4e691",
   "metadata": {},
   "source": [
    "# 3. Modeling & Prediction\n"
   ]
  },
  {
   "cell_type": "code",
   "execution_count": 10,
   "id": "3263b33e",
   "metadata": {},
   "outputs": [],
   "source": [
    "#model kurulumu, modeli eğitmek\n",
    "knn_model = KNeighborsClassifier().fit(X, y)\n"
   ]
  },
  {
   "cell_type": "code",
   "execution_count": 11,
   "id": "7abe5d07",
   "metadata": {},
   "outputs": [],
   "source": [
    "#modeli test etmek için random 1 hasta seç.\n",
    "random_user = X.sample(1, random_state=45)\n"
   ]
  },
  {
   "cell_type": "code",
   "execution_count": 12,
   "id": "e3383bcc",
   "metadata": {},
   "outputs": [
    {
     "data": {
      "text/plain": [
       "array([0], dtype=int64)"
      ]
     },
     "execution_count": 12,
     "metadata": {},
     "output_type": "execute_result"
    }
   ],
   "source": [
    "#eğitilen modelle tahminde bulunma\n",
    "#predicte girilen argümanlar knn_modele sorulur. ve tahminler alınır.\n",
    "knn_model.predict(random_user) #tahmin sınıfı 0 olarak geldi. demek ki diyabet değil bu kişi.\n",
    "\n",
    "#biz burada tek 1 kişi için, 1gözlem için tahminde bulunduk. \n",
    "#eğer tüm veri seti için tahminde bulunmak isteseydim \"model başarı kriterlerine\" gitmem gerekiyor. "
   ]
  },
  {
   "cell_type": "markdown",
   "id": "e9cccca5",
   "metadata": {},
   "source": [
    "# 4. Model Evaluation\n",
    "knn modelini kullanarak tüm gözlem birimlerinde tahmşnde bulunacağız.\n",
    "burada modeli aynı veris eti üzerinde test edeceğiz.\n",
    "modeli görmediği veride test etmek için 2 yol var; 1.hold-out, 2.cross validation\n",
    "cross validate birden fazla metriğe göre değerlendirme yapabilmektedir."
   ]
  },
  {
   "cell_type": "code",
   "execution_count": 15,
   "id": "3f9d8250",
   "metadata": {},
   "outputs": [],
   "source": [
    "#y_pred adında bir değişkende tutuyorum. bunu confusion matrix de kullanacağım. accuracy gibi metrikler bunun üzerinden hesaplancak\n",
    "y_pred = knn_model.predict(X)"
   ]
  },
  {
   "cell_type": "code",
   "execution_count": 16,
   "id": "b29d668f",
   "metadata": {},
   "outputs": [],
   "source": [
    "#AUC Değerini hesaplamayı da olasılık değerleri üzerinden yapabiliyorum.\n",
    "#auc hesaplayabilmek için ROC eğrisine ihtiyacım var. bunun içinde threshold lara ihtiyacım var.\n",
    "#AUC ve ROC hesaplayabilmek için \"1 sınıfına ait olma olasılıklarına\"  ihtiyacım var.\n",
    "y_prob = knn_model.predict_proba(X)[:, 1]\n"
   ]
  },
  {
   "cell_type": "code",
   "execution_count": 17,
   "id": "42f38277",
   "metadata": {},
   "outputs": [
    {
     "name": "stdout",
     "output_type": "stream",
     "text": [
      "              precision    recall  f1-score   support\n",
      "\n",
      "           0       0.83      0.88      0.85       500\n",
      "           1       0.75      0.65      0.70       268\n",
      "\n",
      "    accuracy                           0.80       768\n",
      "   macro avg       0.79      0.77      0.78       768\n",
      "weighted avg       0.80      0.80      0.80       768\n",
      "\n"
     ]
    }
   ],
   "source": [
    "print(classification_report(y, y_pred))\n"
   ]
  },
  {
   "cell_type": "code",
   "execution_count": 18,
   "id": "12456a76",
   "metadata": {},
   "outputs": [
    {
     "data": {
      "text/plain": [
       "0.8718619402985075"
      ]
     },
     "execution_count": 18,
     "metadata": {},
     "output_type": "execute_result"
    }
   ],
   "source": [
    "roc_auc_score(y, y_prob)\n"
   ]
  },
  {
   "cell_type": "code",
   "execution_count": 20,
   "id": "33c65011",
   "metadata": {},
   "outputs": [],
   "source": [
    "#modelin görmediği veride test etmek istiyorum. croos validation kullanarak. \n",
    "#5 katlı çapraz doğrulamayı kullanayım.\n",
    "#cv_results = cross validation sonuçlarım\n",
    "#cross_validate (model nesnesi, bağımsız değişken, bağımlı değişken, cv = kaç katlı yapacaksan bunu gir, scoring = cv kullanmak istediğin metrikleri gir.)\n",
    "cv_results = cross_validate(knn_model, X, y, cv=5, scoring=[\"accuracy\", \"f1\", \"roc_auc\"])\n"
   ]
  },
  {
   "cell_type": "code",
   "execution_count": 21,
   "id": "cad2b72d",
   "metadata": {},
   "outputs": [
    {
     "data": {
      "text/plain": [
       "{'fit_time': array([0.0063045 , 0.00506926, 0.00301266, 0.00357795, 0.        ]),\n",
       " 'score_time': array([0.02803016, 0.01617599, 0.01521945, 0.01208997, 0.01962399]),\n",
       " 'test_accuracy': array([0.72727273, 0.72727273, 0.7012987 , 0.75816993, 0.70588235]),\n",
       " 'test_f1': array([0.57142857, 0.58823529, 0.48888889, 0.6407767 , 0.5631068 ]),\n",
       " 'test_roc_auc': array([0.70592593, 0.71027778, 0.77101852, 0.82537736, 0.73056604])}"
      ]
     },
     "execution_count": 21,
     "metadata": {},
     "output_type": "execute_result"
    }
   ],
   "source": [
    "cv_results"
   ]
  },
  {
   "cell_type": "code",
   "execution_count": 22,
   "id": "66d25cc3",
   "metadata": {},
   "outputs": [
    {
     "data": {
      "text/plain": [
       "0.723979288685171"
      ]
     },
     "execution_count": 22,
     "metadata": {},
     "output_type": "execute_result"
    }
   ],
   "source": [
    "cv_results['test_accuracy'].mean()\n"
   ]
  },
  {
   "cell_type": "code",
   "execution_count": 23,
   "id": "0fb40865",
   "metadata": {},
   "outputs": [
    {
     "data": {
      "text/plain": [
       "0.5704872499161476"
      ]
     },
     "execution_count": 23,
     "metadata": {},
     "output_type": "execute_result"
    }
   ],
   "source": [
    "cv_results['test_f1'].mean()"
   ]
  },
  {
   "cell_type": "code",
   "execution_count": 24,
   "id": "364a03f8",
   "metadata": {},
   "outputs": [
    {
     "data": {
      "text/plain": [
       "0.7486331236897275"
      ]
     },
     "execution_count": 24,
     "metadata": {},
     "output_type": "execute_result"
    }
   ],
   "source": [
    "cv_results['test_roc_auc'].mean()"
   ]
  },
  {
   "cell_type": "raw",
   "id": "b6c8021a",
   "metadata": {},
   "source": [
    "classification_report ile şimdi ki sonuçları karşılaştır.\n",
    "                            Accuracy        F1          AUC\n",
    "classification_report:        0.80         0.70        0.871\n",
    "\n",
    "cross_validate       :       0.723         0.57        0.748\n",
    "\n",
    "Accuracy, f1 ve AUC skorları düşmüş. modelin performansını değerlendirmek için hiç görmediği veriye modeli uyguladığımızda ortaya bir miktar yanlılık çıkardı. bu yanlılık sonuçları doğru değerlendirmemizi engeller.\n",
    "cross_validate daha doğru bir sonuç sunar.\n"
   ]
  },
  {
   "cell_type": "raw",
   "id": "c04b3920",
   "metadata": {},
   "source": [
    "#Bu başarı skorları nasıl arttırılabilir?\n",
    "- veri boyutu (gözlem sayısı) arttırılabilir.\n",
    "- veri ön işlemede yapılan işlemler detaylandırılabilir.\n",
    "- özellik mühendisliği ile anlamlı yeni değişkenler türetilebilir.\n",
    "- ilgili algoritma için optimizasyonlar yapılabilir."
   ]
  },
  {
   "cell_type": "code",
   "execution_count": 27,
   "id": "df03da13",
   "metadata": {},
   "outputs": [
    {
     "data": {
      "text/plain": [
       "{'algorithm': 'auto',\n",
       " 'leaf_size': 30,\n",
       " 'metric': 'minkowski',\n",
       " 'metric_params': None,\n",
       " 'n_jobs': None,\n",
       " 'n_neighbors': 5,\n",
       " 'p': 2,\n",
       " 'weights': 'uniform'}"
      ]
     },
     "execution_count": 27,
     "metadata": {},
     "output_type": "execute_result"
    }
   ],
   "source": [
    "#get_params ile parametreler getirilir.\n",
    "knn_model.get_params()\n"
   ]
  },
  {
   "cell_type": "markdown",
   "id": "5d4a4a45",
   "metadata": {},
   "source": [
    "# 5. Hyperparameter Optimization\n",
    "#ayarlamamız gereken dışsal parametreleri programatik bir şekilde en doğru olarak nasıl ayarlayabiliriz?\n",
    "\n"
   ]
  },
  {
   "cell_type": "code",
   "execution_count": 29,
   "id": "a5a42e8c",
   "metadata": {},
   "outputs": [],
   "source": [
    "#kullanıcı tarafından dışsal olarak girilmesi gereken olası hiperparemetreler bir liste içinde tutulut ve modele gösterilir.\n",
    "#burada en küçük gelen hangisi"
   ]
  },
  {
   "cell_type": "code",
   "execution_count": 30,
   "id": "93d60041",
   "metadata": {},
   "outputs": [],
   "source": [
    "knn_model = KNeighborsClassifier()"
   ]
  },
  {
   "cell_type": "code",
   "execution_count": 31,
   "id": "276ed03f",
   "metadata": {},
   "outputs": [
    {
     "data": {
      "text/plain": [
       "{'algorithm': 'auto',\n",
       " 'leaf_size': 30,\n",
       " 'metric': 'minkowski',\n",
       " 'metric_params': None,\n",
       " 'n_jobs': None,\n",
       " 'n_neighbors': 5,\n",
       " 'p': 2,\n",
       " 'weights': 'uniform'}"
      ]
     },
     "execution_count": 31,
     "metadata": {},
     "output_type": "execute_result"
    }
   ],
   "source": [
    "#parametreleri getirir. komşuluk sayısı 5 olarak ön tanımlı değeri girili.\n",
    "knn_model.get_params()\n"
   ]
  },
  {
   "cell_type": "code",
   "execution_count": 32,
   "id": "2518c13a",
   "metadata": {},
   "outputs": [],
   "source": [
    "# 2 den 50 ye kadar sayıları oluşturdum,ve bunlar tek tek denenecek\n",
    "knn_params = {\"n_neighbors\": range(2, 50)}\n"
   ]
  },
  {
   "cell_type": "code",
   "execution_count": 33,
   "id": "d36866eb",
   "metadata": {},
   "outputs": [
    {
     "name": "stdout",
     "output_type": "stream",
     "text": [
      "Fitting 5 folds for each of 48 candidates, totalling 240 fits\n"
     ]
    },
    {
     "data": {
      "text/plain": [
       "{'n_neighbors': 14}"
      ]
     },
     "execution_count": 33,
     "metadata": {},
     "output_type": "execute_result"
    }
   ],
   "source": [
    "#GridSearchCV yöntemi = ızgarada cv ile ara.\n",
    "knn_gs_best = GridSearchCV(knn_model,                 #modeli gir\n",
    "                           knn_params,                #hangi parametre seti  \n",
    "                           cv=5,                      #kaç katlı cv yapacaksın\n",
    "                           n_jobs=-1,                 # -1 ile tanımlanınca işlemcilerini tam performansda kullanır.\n",
    "                           verbose=1).fit(X, y)       #verbose ile rapor edilir.\n",
    "knn_gs_best.best_params_"
   ]
  },
  {
   "cell_type": "code",
   "execution_count": 34,
   "id": "17fdfd25",
   "metadata": {},
   "outputs": [
    {
     "data": {
      "text/plain": [
       "{'n_neighbors': 14}"
      ]
     },
     "execution_count": 34,
     "metadata": {},
     "output_type": "execute_result"
    }
   ],
   "source": [
    "#komşuluk sayısı 14 geldi. ön tanımlı değerim 5 idi.\n",
    "knn_gs_best.best_params_"
   ]
  },
  {
   "cell_type": "markdown",
   "id": "a6ba465b",
   "metadata": {},
   "source": [
    "# FİNAL MODEL\n",
    "HİPERMETRE OPTİMİZASYONU ile komşuluk sayım 17 olmuştu. ben biraz önce modelimi kurdum ama bu model komşuluk sayısı 5 e göre kuruldu. şimdi 17 ile daha başarılı sonuçlar vereceğini düşünüyorum. "
   ]
  },
  {
   "cell_type": "code",
   "execution_count": 36,
   "id": "28c4514e",
   "metadata": {},
   "outputs": [],
   "source": [
    "knn_final = knn_model.set_params(**knn_gs_best.best_params_).fit(X, y)"
   ]
  },
  {
   "cell_type": "code",
   "execution_count": 37,
   "id": "386f5524",
   "metadata": {},
   "outputs": [],
   "source": [
    "#test hatası\n",
    "cv_results = cross_validate(knn_final,\n",
    "                            X,\n",
    "                            y,\n",
    "                            cv=5,\n",
    "                            scoring=[\"accuracy\", \"f1\", \"roc_auc\"])"
   ]
  },
  {
   "cell_type": "code",
   "execution_count": 38,
   "id": "5a32f1c6",
   "metadata": {},
   "outputs": [
    {
     "data": {
      "text/plain": [
       "0.7578558696205755"
      ]
     },
     "execution_count": 38,
     "metadata": {},
     "output_type": "execute_result"
    }
   ],
   "source": [
    "cv_results['test_accuracy'].mean()\n"
   ]
  },
  {
   "cell_type": "code",
   "execution_count": 39,
   "id": "26f11e1a",
   "metadata": {},
   "outputs": [
    {
     "data": {
      "text/plain": [
       "0.5870824671121806"
      ]
     },
     "execution_count": 39,
     "metadata": {},
     "output_type": "execute_result"
    }
   ],
   "source": [
    "cv_results['test_f1'].mean()\n"
   ]
  },
  {
   "cell_type": "code",
   "execution_count": 40,
   "id": "7d49b3c7",
   "metadata": {},
   "outputs": [
    {
     "data": {
      "text/plain": [
       "0.7957707896575821"
      ]
     },
     "execution_count": 40,
     "metadata": {},
     "output_type": "execute_result"
    }
   ],
   "source": [
    "cv_results['test_roc_auc'].mean()\n"
   ]
  },
  {
   "cell_type": "code",
   "execution_count": 41,
   "id": "bf61241d",
   "metadata": {},
   "outputs": [],
   "source": [
    "random_user = X.sample(1)\n"
   ]
  },
  {
   "cell_type": "code",
   "execution_count": null,
   "id": "df26336c",
   "metadata": {},
   "outputs": [],
   "source": [
    "knn_final.predict(random_user)"
   ]
  },
  {
   "cell_type": "code",
   "execution_count": null,
   "id": "655cdadb",
   "metadata": {},
   "outputs": [],
   "source": []
  }
 ],
 "metadata": {
  "kernelspec": {
   "display_name": "Python 3 (ipykernel)",
   "language": "python",
   "name": "python3"
  },
  "language_info": {
   "codemirror_mode": {
    "name": "ipython",
    "version": 3
   },
   "file_extension": ".py",
   "mimetype": "text/x-python",
   "name": "python",
   "nbconvert_exporter": "python",
   "pygments_lexer": "ipython3",
   "version": "3.9.16"
  }
 },
 "nbformat": 4,
 "nbformat_minor": 5
}
